{
  "cells": [
    {
      "cell_type": "code",
      "execution_count": null,
      "metadata": {
        "id": "sKzgwruNxsHr"
      },
      "outputs": [],
      "source": [
        "!pip install flask\n",
        "!pip install flask-ngrok"
      ]
    },
    {
      "cell_type": "code",
      "execution_count": null,
      "metadata": {
        "id": "9cq-H7CMyPAG"
      },
      "outputs": [],
      "source": [
        "import pandas as pd\n",
        "from flask_ngrok import run_with_ngrok\n",
        "from flask import request, jsonify, Flask\n",
        "import random as rk"
      ]
    },
    {
      "cell_type": "code",
      "execution_count": null,
      "metadata": {
        "id": "rJ6s_tCZyMQF"
      },
      "outputs": [],
      "source": [
        "app = Flask(__name__)\n",
        "run_with_ngrok(app)"
      ]
    },
    {
      "cell_type": "code",
      "execution_count": null,
      "metadata": {
        "id": "rOHt-mwBy9CF"
      },
      "outputs": [],
      "source": [
        "d = [{\n",
        "    \"number\" : 1,\n",
        "    \"name\": \"Mahesh\",\n",
        "    \"age\" : 25,\n",
        "    \"city\" : \"Bangalore\",\n",
        "    \"country\" : \"india\"},\n",
        "     {\n",
        "    \"number\" : 2,\n",
        "    \"name\": \"Alex\",\n",
        "    \"age\" : 26,\n",
        "    \"city\" : \"London\",\n",
        "    \"country\" : \"UK\"},\n",
        "     {\n",
        "    \"Number\" : 3,\n",
        "    \"Name\": \"David\",\n",
        "    \"Age\" : 27,\n",
        "    \"City\" : \"San Francisco\",\n",
        "    \"Country\" : \"USA\"},\n",
        "     {\n",
        "    \"number\" : 4,\n",
        "    \"name\": \"John\",\n",
        "    \"age\" : 28,\n",
        "    \"city\" : \"Toronto\",\n",
        "    \"country\" : \"Canada\"},\n",
        "     {\n",
        "    \"number\" : 5,\n",
        "    \"name\": \"Chris\",\n",
        "    \"age\" : 29,\n",
        "    \"city\" : \"Paris\",\n",
        "    \"country\" : \"France\"}\n",
        "     ]"
      ]
    },
    {
      "cell_type": "code",
      "source": [
        "@app.route('/')\n",
        "def home():\n",
        "  return \"Check in put add '/index', check out put add 'output'.\""
      ],
      "metadata": {
        "id": "UVqNH5WuQY_n"
      },
      "execution_count": null,
      "outputs": []
    },
    {
      "cell_type": "code",
      "execution_count": null,
      "metadata": {
        "id": "yYuqublCzbbf"
      },
      "outputs": [],
      "source": [
        "@app.route(\"/index\")\n",
        "def input():\n",
        "  return jsonify(d)\n"
      ]
    },
    {
      "cell_type": "code",
      "execution_count": null,
      "metadata": {
        "colab": {
          "base_uri": "https://localhost:8080/"
        },
        "id": "Us6InKNx00c8",
        "outputId": "0c6d7052-7d18-4773-b411-5e281955fc11"
      },
      "outputs": [
        {
          "metadata": {
            "tags": null
          },
          "name": "stdout",
          "output_type": "stream",
          "text": [
            " * Serving Flask app '__main__'\n",
            " * Debug mode: off\n"
          ]
        },
        {
          "metadata": {
            "tags": null
          },
          "name": "stderr",
          "output_type": "stream",
          "text": [
            "INFO:werkzeug:\u001b[31m\u001b[1mWARNING: This is a development server. Do not use it in a production deployment. Use a production WSGI server instead.\u001b[0m\n",
            " * Running on http://127.0.0.1:5000\n",
            "INFO:werkzeug:\u001b[33mPress CTRL+C to quit\u001b[0m\n"
          ]
        },
        {
          "metadata": {
            "tags": null
          },
          "name": "stdout",
          "output_type": "stream",
          "text": [
            " * Running on http://bdc6-34-73-78-2.ngrok.io\n",
            " * Traffic stats available on http://127.0.0.1:4040\n"
          ]
        },
        {
          "output_type": "stream",
          "name": "stderr",
          "text": [
            "INFO:werkzeug:127.0.0.1 - - [31/Oct/2023 02:37:15] \"GET / HTTP/1.1\" 200 -\n",
            "INFO:werkzeug:127.0.0.1 - - [31/Oct/2023 02:37:16] \"\u001b[33mGET /favicon.ico HTTP/1.1\u001b[0m\" 404 -\n",
            "INFO:werkzeug:127.0.0.1 - - [31/Oct/2023 02:37:20] \"GET /index HTTP/1.1\" 200 -\n",
            "INFO:werkzeug:127.0.0.1 - - [31/Oct/2023 03:02:31] \"GET / HTTP/1.1\" 200 -\n",
            "INFO:werkzeug:127.0.0.1 - - [31/Oct/2023 03:02:31] \"\u001b[33mGET /favicon.ico HTTP/1.1\u001b[0m\" 404 -\n",
            "INFO:werkzeug:127.0.0.1 - - [31/Oct/2023 03:02:35] \"\u001b[33mGET /input HTTP/1.1\u001b[0m\" 404 -\n",
            "INFO:werkzeug:127.0.0.1 - - [31/Oct/2023 03:02:36] \"\u001b[33mGET /favicon.ico HTTP/1.1\u001b[0m\" 404 -\n",
            "INFO:werkzeug:127.0.0.1 - - [31/Oct/2023 03:02:47] \"GET /index HTTP/1.1\" 200 -\n"
          ]
        }
      ],
      "source": [
        "@app.route(\"/output\", methods=['GET','POST'])\n",
        "\n",
        "def predJson():\n",
        "  pred = r.choice([\"positive\", \"negative\"])\n",
        "  nd = d\n",
        "  nd[\"prediction\"] = pred\n",
        "  return jsonify(nd)\n",
        "\n",
        "app.run()"
      ]
    },
    {
      "cell_type": "markdown",
      "source": [
        "# Nova seção"
      ],
      "metadata": {
        "id": "peVn1hO0mdUC"
      }
    },
    {
      "cell_type": "markdown",
      "source": [
        "# Nova seção"
      ],
      "metadata": {
        "id": "RbFYFpfNlPWi"
      }
    }
  ],
  "metadata": {
    "colab": {
      "provenance": []
    },
    "kernelspec": {
      "display_name": "Python 3",
      "name": "python3"
    },
    "language_info": {
      "name": "python"
    }
  },
  "nbformat": 4,
  "nbformat_minor": 0
}